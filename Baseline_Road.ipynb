{
 "cells": [
  {
   "cell_type": "code",
   "execution_count": null,
   "id": "58e7d3c9-cbd5-498d-895f-d756e420dc47",
   "metadata": {},
   "outputs": [],
   "source": [
    "# Python 버전 확인\n",
    "import sys\n",
    "sys.version"
   ]
  },
  {
   "cell_type": "code",
   "execution_count": null,
   "id": "1735dad9-2c94-4dab-a8ac-38bfd7911830",
   "metadata": {},
   "outputs": [],
   "source": [
    "# PyTorch 버전 확인\n",
    "import torch\n",
    "torch.__version__"
   ]
  },
  {
   "cell_type": "code",
   "execution_count": null,
   "id": "f1f9f336-103c-40a9-978e-750b6ff468d3",
   "metadata": {},
   "outputs": [],
   "source": [
    "!git clone https://github.com/ultralytics/yolov5"
   ]
  },
  {
   "cell_type": "code",
   "execution_count": null,
   "id": "d4dab0ea-7074-4d34-89bb-f2e46aff198c",
   "metadata": {},
   "outputs": [],
   "source": [
    "!pip install -r yolov5/requirements.txt"
   ]
  },
  {
   "cell_type": "code",
   "execution_count": null,
   "id": "f75dc7f5-b91d-4546-b666-5ecf4d5a8e20",
   "metadata": {},
   "outputs": [],
   "source": [
    "# Train YOLOv5s on COCO128\n",
    "!python yolov5/train.py --img 640 --batch 128 --epochs 1 --data road.yaml --weights yolov5s.pt"
   ]
  },
  {
   "cell_type": "code",
   "execution_count": null,
   "id": "8066acf8-80ae-48d8-b149-bd584bc1f295",
   "metadata": {},
   "outputs": [],
   "source": [
    "!python yolov5/detect.py --weights yolov5/runs/train/exp11/weights/best.pt --source /USER/DATA/inclass1_od/test/images --conf 0.15  --save-txt\n",
    "# detection 결과는 yolov5/runs 폴더 하위 경로에 저장됩니다."
   ]
  },
  {
   "cell_type": "code",
   "execution_count": null,
   "id": "a21d0399-fd11-4f53-b363-b152a345eff0",
   "metadata": {},
   "outputs": [],
   "source": [
    "!python yolov5/val.py --data road.yaml --weights yolov5/runs/train/exp11/weights/best.pt --img 640\n",
    "# yolov5/detect/exp/labels에 txt 결과 파일 저장"
   ]
  },
  {
   "cell_type": "code",
   "execution_count": null,
   "id": "cbf55f08-9a46-4c25-8612-1b8c6fd747ce",
   "metadata": {},
   "outputs": [],
   "source": [
    "# submission 양식 다운로드\n",
    "import pandas as pd\n",
    "df = pd.read_csv('/USER/DATA/inclass1_od/sample_submission.csv')\n",
    "df"
   ]
  },
  {
   "cell_type": "code",
   "execution_count": null,
   "id": "7c9862c0-00f4-47ad-8c00-9b68b947ab09",
   "metadata": {},
   "outputs": [],
   "source": [
    "# submission 파일 제작\n",
    "import os\n",
    "encoding_dict = {0:'Vehicle_Car', 1:'Vehicle_Bus', 2:'Vehicle_Motorcycle', 3:'Vehicle_Unknown',\n",
    "                 4:'Pedestrian_Pedestrian', 5:'Pedestrian_Bicycle',\n",
    "                 6:'RoadMark_StopLine', 7:'RoadMark_Crosswalk', 8:'RoadMark_Number', 9:'RoadMark_Character',\n",
    "                 10:'RoadMarkArrow_Straight', 11:'RoadMarkArrow_Left', 12:'RoadMarkArrow_Right',\n",
    "                 13:'RoadMarkArrow_StraightLeft', 14:'RoadMarkArrow_StraightRight', 15:'RoadMarkArrow_Uturn', 16:'RoadMarkArrow_Else'}\n",
    "\n",
    "# 이미지 당 바운딩 박스를 하나만 읽어오게 되어 있던, 기존 코드\n",
    "# for i in os.listdir('/USER/Inclass/1st_od/yolov5/runs/detect/exp4/labels'):\n",
    "#     if 'check' not in i: \n",
    "#         f = open(os.path.join('/USER/Inclass/1st_od/yolov5/runs/detect/exp4/labels', i), \"r\")\n",
    "#         data = f.read()\n",
    "#         col = encoding_dict[int(data[0])]\n",
    "#         i_idx = i.split('.')[0]\n",
    "#         idx =df[df['file_name']==str(i_idx)+'.jpg'].index         \n",
    "#         df.loc[idx, col] += 1\n",
    "        \n",
    "# 웨이브덱 수정 코드\n",
    "for i in os.listdir('/USER/Inclass/1st_od/yolov5/runs/detect/exp4/labels'):\n",
    "    if 'check' not in i:\n",
    "        f = open(os.path.join('/USER/Inclass/1st_od/yolov5/runs/detect/exp4/labels', i), \"r\")\n",
    "        lines = f.readlines()\n",
    "        print(i)\n",
    "        for line in lines:\n",
    "            print(line[0])\n",
    "            col = encoding_dict[int(line[0])]\n",
    "            print(col)\n",
    "            i_idx = i.split('.')[0]\n",
    "            idx = df[df['file_name']==str(i_idx)+'.jpg'].index\n",
    "            df.loc[idx, col] += 1\n",
    "        print('========================')\n",
    "\n",
    "# submission 파일 저장\n",
    "df.to_csv('/USER/Inclass/1st_od/prediction.csv', index=False)"
   ]
  }
 ],
 "metadata": {
  "kernelspec": {
   "display_name": "Python 3 (ipykernel)",
   "language": "python",
   "name": "python3"
  },
  "language_info": {
   "codemirror_mode": {
    "name": "ipython",
    "version": 3
   },
   "file_extension": ".py",
   "mimetype": "text/x-python",
   "name": "python",
   "nbconvert_exporter": "python",
   "pygments_lexer": "ipython3",
   "version": "3.8.5"
  }
 },
 "nbformat": 4,
 "nbformat_minor": 5
}
